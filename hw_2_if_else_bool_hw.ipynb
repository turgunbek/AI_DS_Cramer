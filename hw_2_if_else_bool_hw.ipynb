{
 "cells": [
  {
   "cell_type": "markdown",
   "metadata": {
    "id": "nz5PCxQBQn08"
   },
   "source": [
    "# Task 1\n",
    "Дано число в переменной number.\n",
    "Если число в переменной number больше 0 вывести True, иначе False"
   ]
  },
  {
   "cell_type": "code",
   "execution_count": 1,
   "metadata": {
    "id": "iOPLDHn4QrHY"
   },
   "outputs": [
    {
     "name": "stdout",
     "output_type": "stream",
     "text": [
      "False\n"
     ]
    }
   ],
   "source": [
    "number = -5\n",
    "print(True) if number > 0 else print(False)"
   ]
  },
  {
   "cell_type": "markdown",
   "metadata": {
    "id": "VLrmzPAnQ4li"
   },
   "source": [
    "# Task 2\n",
    "Проверить переменную mark, куда попадает введенное пользователем значение.\n",
    "\n",
    "\n",
    "* Если значение mark больше или равно 90, вывести строку \"Отлично, Ваша оценка 5!\",\n",
    "\n",
    "* Если значение больше или равно 80 и меньше 90, вывести \"Здорово, Ваша оценка 4!\",\n",
    "\n",
    "* Если значение больше или равно 70 и меньше 80, вывести \"Хорошо, Ваша оценка 3!\",\n",
    "\n",
    "* Если значение больше или равно 60 и меньше 70, вывести \"Вам стоит подучить материал\",\n",
    "\n",
    "* В других случаях вывести строку \"Вы не сдали экзамен\""
   ]
  },
  {
   "cell_type": "code",
   "execution_count": 2,
   "metadata": {
    "id": "EI6m7x-bQ8ow"
   },
   "outputs": [
    {
     "name": "stdout",
     "output_type": "stream",
     "text": [
      "Отлично, Ваша оценка 5!\n"
     ]
    }
   ],
   "source": [
    "mark = 100\n",
    "if mark >= 90:\n",
    "    print('Отлично, Ваша оценка 5!')\n",
    "elif mark >= 80:\n",
    "    print('Здорово, Ваша оценка 4!')\n",
    "elif mark >= 70:\n",
    "    print('Хорошо, Ваша оценка 3!')\n",
    "elif mark >= 60:\n",
    "    print('Вам стоит подучить материал')\n",
    "else:\n",
    "    print('Вы не сдали экзамен')"
   ]
  },
  {
   "cell_type": "markdown",
   "metadata": {
    "id": "-Jurlc2DRAGw"
   },
   "source": [
    "# Task 3\n",
    "Создать три целых числа x, y, z. Выведите значение наименьшего из них не используя функцию min().\n",
    "\n",
    "К примеру:\n",
    "\n",
    "\n",
    "\n",
    "```\n",
    "x = 102\n",
    "y = 36\n",
    "z = 90\n",
    "\n",
    "# you code.......\n",
    "\n",
    "output:\n",
    "36\n",
    "```\n",
    "\n",
    "\n",
    "Для отображения результата используйте print()."
   ]
  },
  {
   "cell_type": "code",
   "execution_count": 3,
   "metadata": {
    "id": "o4WrvEZkRAbw"
   },
   "outputs": [
    {
     "name": "stdout",
     "output_type": "stream",
     "text": [
      "36\n"
     ]
    }
   ],
   "source": [
    "x, y, z = 102, 36, 90\n",
    "if x < y:\n",
    "    if x < z:\n",
    "        print(x)\n",
    "    else:\n",
    "        print(z)\n",
    "else:\n",
    "    if y < z:\n",
    "        print(y)\n",
    "    else:\n",
    "        print(z)"
   ]
  },
  {
   "cell_type": "markdown",
   "metadata": {
    "id": "bX3CRQ0tRAqE"
   },
   "source": [
    "# Task 4\n",
    "В переменных x, y хранятся числа. Проверьте, делится ли первое число на второе без остатка.\n",
    "\n",
    "* Eсли делится, выведите результат деления.\n",
    "\n",
    "* Eсли  не делится, выведите сумму.\n",
    "\n",
    "\n",
    "\n",
    "```\n",
    "input:\n",
    "42, 6\n",
    "\n",
    "output:\n",
    "7\n",
    "\n",
    "input:\n",
    "2, 3\n",
    "\n",
    "output\n",
    "5\n",
    "```\n",
    "\n",
    "Для отображения результата используйте print()."
   ]
  },
  {
   "cell_type": "code",
   "execution_count": 8,
   "metadata": {
    "id": "kbcIy5mkRA6Y"
   },
   "outputs": [
    {
     "name": "stdout",
     "output_type": "stream",
     "text": [
      "5\n"
     ]
    }
   ],
   "source": [
    "x, y = 2, 3\n",
    "if x % y == 0:\n",
    "    print(x // y)\n",
    "else:\n",
    "    print(x + y)"
   ]
  },
  {
   "cell_type": "code",
   "execution_count": null,
   "metadata": {
    "id": "Jz3KGvcoctbI"
   },
   "outputs": [],
   "source": []
  },
  {
   "cell_type": "markdown",
   "metadata": {
    "id": "vqu2Gw7cRBMK"
   },
   "source": [
    "# Task 5\n",
    "У треугольника сумма любых двух сторон должна быть строго больше третьей.\n",
    "Даны 3 переменные:\n",
    "\n",
    "* a = 4\n",
    "* b = 9\n",
    "* c = 6.\n",
    "\n",
    "Проверьте, может ли существовать треугольник при таких длинах, если да, то напечатать 'yes', если нет - 'no'."
   ]
  },
  {
   "cell_type": "code",
   "execution_count": 9,
   "metadata": {
    "id": "9efFdZS4RBap"
   },
   "outputs": [
    {
     "name": "stdout",
     "output_type": "stream",
     "text": [
      "yes\n"
     ]
    }
   ],
   "source": [
    "a, b, c = 4, 9, 6\n",
    "if a < b + c and b < a + c and c < a + b:\n",
    "    print('yes')\n",
    "else:\n",
    "    print('no')"
   ]
  },
  {
   "cell_type": "markdown",
   "metadata": {
    "id": "xX4O0NskRBpn"
   },
   "source": [
    "# Task 6\n",
    "Даны 3 переменные:\n",
    "* a = 58\n",
    "* b = 5\n",
    "* c = 63\n",
    "\n",
    "Проверьте, является переменная \"c\" суммой двух первых.\n",
    "Если да, то выведите True, нет - False"
   ]
  },
  {
   "cell_type": "code",
   "execution_count": 10,
   "metadata": {
    "id": "df5qSGq3RB4j"
   },
   "outputs": [
    {
     "name": "stdout",
     "output_type": "stream",
     "text": [
      "True\n"
     ]
    }
   ],
   "source": [
    "a, b, c = 58, 5, 63\n",
    "print(c == a + b)"
   ]
  },
  {
   "cell_type": "markdown",
   "metadata": {
    "id": "nl55Gp8oRCHk"
   },
   "source": [
    "# Task 7\n",
    "\n",
    "Напишите программу, которая запрашивает с клавиатуры рациональное число, и если введенное число принадлежит указаному множеству, программа возвращает 'True', в противном случае 'False'.\n",
    "\n",
    "$x\\in [2; 10)$\n",
    "\n"
   ]
  },
  {
   "cell_type": "code",
   "execution_count": 11,
   "metadata": {
    "id": "actcSKIrfSl5"
   },
   "outputs": [
    {
     "name": "stdout",
     "output_type": "stream",
     "text": [
      "3\n",
      "True\n"
     ]
    }
   ],
   "source": [
    "x = float(input())\n",
    "print(2 <= x < 10)"
   ]
  },
  {
   "cell_type": "code",
   "execution_count": null,
   "metadata": {
    "id": "wvfWXof2fSis"
   },
   "outputs": [],
   "source": []
  },
  {
   "cell_type": "markdown",
   "metadata": {
    "id": "wuqadcqyeRJV"
   },
   "source": [
    "# Task 8\n",
    "\n",
    "Напишите программу, которая запрашивает с клавиатуры рациональное число, и если введенное число принадлежит указаному множеству, программа возвращает 'True', в противном случае 'False'.\n",
    "\n",
    "$x\\in (-\\infty; 4) \\cup [5; \\infty)$\n",
    "\n"
   ]
  },
  {
   "cell_type": "code",
   "execution_count": 13,
   "metadata": {
    "id": "61iWWzaQfTHB"
   },
   "outputs": [
    {
     "name": "stdout",
     "output_type": "stream",
     "text": [
      "4.5\n",
      "False\n"
     ]
    }
   ],
   "source": [
    "x = float(input())\n",
    "print(x < 4 or 5 <= x)"
   ]
  },
  {
   "cell_type": "markdown",
   "metadata": {
    "id": "AxeYxNYkeRfR"
   },
   "source": [
    "# Task 9\n",
    "\n",
    "Напишите программу, которая запрашивает с клавиатуры рациональное число, и если введенное число принадлежит указаному множеству, программа возвращает 'True', в противном случае 'False'.\n",
    "\n",
    "$x \\in \\{2, 4, 6, 8, 10\\}$\n",
    "\n"
   ]
  },
  {
   "cell_type": "code",
   "execution_count": 15,
   "metadata": {
    "id": "ZU_MM5lSfTsw"
   },
   "outputs": [
    {
     "name": "stdout",
     "output_type": "stream",
     "text": [
      "2.0\n",
      "True\n"
     ]
    }
   ],
   "source": [
    "x = float(input())\n",
    "print(x in {2, 4, 6, 8})"
   ]
  },
  {
   "cell_type": "markdown",
   "metadata": {
    "id": "KCz5ZpwxeSq_"
   },
   "source": [
    "# Task 10\n",
    "\n",
    "Напишите программу, которая запрашивает с клавиатуры рациональное число, и если введенное число принадлежит указаному множеству, программа возвращает 'True', в противном случае 'False'.\n",
    "\n",
    "$x\\in (-10; 5)\\cup(5 ; 7]\\cup (8; \\infty)$"
   ]
  },
  {
   "cell_type": "code",
   "execution_count": 17,
   "metadata": {
    "id": "_1JvULekfUJw"
   },
   "outputs": [
    {
     "name": "stdout",
     "output_type": "stream",
     "text": [
      "5\n",
      "False\n"
     ]
    }
   ],
   "source": [
    "x = float(input())\n",
    "print(-10 < x < 5 or 5 < x <= 7 or 8 < x)"
   ]
  },
  {
   "cell_type": "code",
   "execution_count": null,
   "metadata": {
    "id": "9sW9pRHERCWD"
   },
   "outputs": [],
   "source": []
  },
  {
   "cell_type": "markdown",
   "metadata": {
    "id": "pK4kYOYbRhiD"
   },
   "source": [
    "# Task 11\n",
    "\n",
    "Напишите программу, которая запрашивает с клавиатуры рациональное число, и если введенное число является решением данного неравенства, программа возвращает 'True', в противном случае 'False'.\n",
    "\n",
    "$$ \\frac{x^2-3x}{x+5} \\geq \\frac{x-3}{7-x}$$"
   ]
  },
  {
   "cell_type": "code",
   "execution_count": 18,
   "metadata": {
    "id": "5QfD5VvoRhxj"
   },
   "outputs": [
    {
     "name": "stdout",
     "output_type": "stream",
     "text": [
      "4\n",
      "True\n"
     ]
    }
   ],
   "source": [
    "x = float(input())\n",
    "if x == -5 or x == 7:\n",
    "    print(False)\n",
    "else:\n",
    "    print((x**2 - 3*x)/(x+5) >= (x-3)/(7-x))"
   ]
  },
  {
   "cell_type": "markdown",
   "metadata": {
    "id": "ABWcxnf4Rh-Q"
   },
   "source": [
    "# Task 12\n",
    "Напишите программу,  которая запрашивает с клавиатуры рациональное число, и если введенное число является решением данной системы неравенств, программа возвращает 'True', в противном случае 'False'\n",
    "\n",
    "\n",
    "\\begin{cases}\n",
    "  x^2 - 3x \\leq  0     \\\\\n",
    "  x^2 - 6x + 8 > 0\n",
    "\\end{cases}"
   ]
  },
  {
   "cell_type": "code",
   "execution_count": 20,
   "metadata": {
    "id": "NDL1s01VRiNm"
   },
   "outputs": [
    {
     "name": "stdout",
     "output_type": "stream",
     "text": [
      "0\n",
      "True\n"
     ]
    }
   ],
   "source": [
    "x = float(input())\n",
    "print(x**2 - 3*x <= 0 and x**2 - 6*x + 8 > 0)"
   ]
  },
  {
   "cell_type": "markdown",
   "metadata": {
    "id": "yvX6Ijc8Rikr"
   },
   "source": [
    "# Task 13\n",
    "\n",
    "Напишите программу,  которая запрашивает с клавиатуры рациональное число, и если введенное число является решением данной совокупности неравенств, программа возвращает 'True', в противном случае 'False'\n",
    "\n",
    "\n",
    "\n",
    "$$\\left[\n",
    "      \\begin{gathered}\n",
    "      x-3 > 5 \\\\\n",
    "      x \\leq 2\n",
    "      \\end{gathered}\n",
    "\\right.$$"
   ]
  },
  {
   "cell_type": "code",
   "execution_count": 21,
   "metadata": {
    "id": "jD67ihAhRiyS"
   },
   "outputs": [
    {
     "name": "stdout",
     "output_type": "stream",
     "text": [
      "2\n",
      "True\n"
     ]
    }
   ],
   "source": [
    "x = float(input())\n",
    "print(x - 3 > 5 or x <= 2)"
   ]
  },
  {
   "cell_type": "code",
   "execution_count": null,
   "metadata": {},
   "outputs": [],
   "source": []
  }
 ],
 "metadata": {
  "colab": {
   "provenance": []
  },
  "kernelspec": {
   "display_name": "Python 3 (ipykernel)",
   "language": "python",
   "name": "python3"
  },
  "language_info": {
   "codemirror_mode": {
    "name": "ipython",
    "version": 3
   },
   "file_extension": ".py",
   "mimetype": "text/x-python",
   "name": "python",
   "nbconvert_exporter": "python",
   "pygments_lexer": "ipython3",
   "version": "3.11.8"
  }
 },
 "nbformat": 4,
 "nbformat_minor": 1
}
