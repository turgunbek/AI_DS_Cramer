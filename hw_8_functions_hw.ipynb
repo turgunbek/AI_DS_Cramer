{
 "cells": [
  {
   "cell_type": "markdown",
   "metadata": {
    "id": "nz5PCxQBQn08"
   },
   "source": [
    "# Task 1\n",
    "Создайте функцию func1, которая будет принтить вам строку 'hello'"
   ]
  },
  {
   "cell_type": "code",
   "execution_count": 1,
   "metadata": {
    "id": "iOPLDHn4QrHY"
   },
   "outputs": [],
   "source": [
    "def func1():\n",
    "    print('hello')"
   ]
  },
  {
   "cell_type": "code",
   "execution_count": 4,
   "metadata": {},
   "outputs": [
    {
     "name": "stdout",
     "output_type": "stream",
     "text": [
      "hello\n"
     ]
    }
   ],
   "source": [
    "func1()"
   ]
  },
  {
   "cell_type": "markdown",
   "metadata": {
    "id": "VLrmzPAnQ4li"
   },
   "source": [
    "# Task 2\n",
    "Создайте функцию func2, которая будет принимать два числа в качестве аргументов\n",
    "и возвращать их сложение\n"
   ]
  },
  {
   "cell_type": "code",
   "execution_count": 2,
   "metadata": {
    "id": "EI6m7x-bQ8ow"
   },
   "outputs": [],
   "source": [
    "def func2(a, b):\n",
    "    return a + b"
   ]
  },
  {
   "cell_type": "code",
   "execution_count": 5,
   "metadata": {},
   "outputs": [
    {
     "data": {
      "text/plain": [
       "3"
      ]
     },
     "execution_count": 5,
     "metadata": {},
     "output_type": "execute_result"
    }
   ],
   "source": [
    "func2(1, 2)"
   ]
  },
  {
   "cell_type": "markdown",
   "metadata": {
    "id": "-Jurlc2DRAGw"
   },
   "source": [
    "# Task 3\n",
    "Создайте функцию wallet, которая принимает два аргумента:\n",
    "\n",
    "1) на что потрачены деньги\n",
    "\n",
    "2) сколько потрачено\n",
    "\n",
    "В итоге функция должна возвращать строку в виде\n",
    "\n",
    "```'На *example_молоко* было потрачено *example_60* сом'```\n"
   ]
  },
  {
   "cell_type": "code",
   "execution_count": 3,
   "metadata": {
    "id": "o4WrvEZkRAbw"
   },
   "outputs": [],
   "source": [
    "def wallet(what, money):\n",
    "    return f'На {what} было потрачено {money} сом'"
   ]
  },
  {
   "cell_type": "code",
   "execution_count": 7,
   "metadata": {},
   "outputs": [
    {
     "data": {
      "text/plain": [
       "'На транспорт было потрачено 1000 сом'"
      ]
     },
     "execution_count": 7,
     "metadata": {},
     "output_type": "execute_result"
    }
   ],
   "source": [
    "wallet('транспорт', 1000)"
   ]
  },
  {
   "cell_type": "markdown",
   "metadata": {
    "id": "bX3CRQ0tRAqE"
   },
   "source": [
    "# Task 4\n",
    "Создайте функцию ```func4()```, которая на вход будет принимать одну строку, проверять ее и на выходе\n",
    "возвращать строку, заменяя запятые на точки, пробелы на '' - пустые кавычки"
   ]
  },
  {
   "cell_type": "code",
   "execution_count": 13,
   "metadata": {
    "id": "kbcIy5mkRA6Y"
   },
   "outputs": [],
   "source": [
    "def func4(s):\n",
    "    res = s.replace(',', '.')\n",
    "    res = s.replace(' ', '')\n",
    "    return res"
   ]
  },
  {
   "cell_type": "code",
   "execution_count": 14,
   "metadata": {},
   "outputs": [
    {
     "data": {
      "text/plain": [
       "'Тестоваястрока,чтобыпроверить,чтовсёработаеток.'"
      ]
     },
     "execution_count": 14,
     "metadata": {},
     "output_type": "execute_result"
    }
   ],
   "source": [
    "s = 'Тестовая строка, чтобы проверить, что всё работает ок.'\n",
    "func4(s)"
   ]
  },
  {
   "cell_type": "markdown",
   "metadata": {
    "id": "vqu2Gw7cRBMK"
   },
   "source": [
    "# Task 5\n",
    "Создайте две функции ```add``` и ```div```\n",
    "\n",
    "первая функция должна принимать два числа и возвращать их сумму\n",
    "\n",
    "вторая функция должна принимать в качестве первого аргумента результат сложения первой функции и\n",
    "вторым аргументом число. Внутри себя вторая функция будет делить первый аргумент на второй и возвращать результат\n",
    "\n",
    "Например:\n",
    "```\n",
    "add(4, 5) => 9\n",
    "div(9, 3) => 3\n",
    "```"
   ]
  },
  {
   "cell_type": "code",
   "execution_count": 16,
   "metadata": {
    "id": "9efFdZS4RBap"
   },
   "outputs": [],
   "source": [
    "def add(a, b):\n",
    "    return a + b\n",
    "\n",
    "def div(a, b):\n",
    "    return a/b"
   ]
  },
  {
   "cell_type": "code",
   "execution_count": 18,
   "metadata": {},
   "outputs": [
    {
     "name": "stdout",
     "output_type": "stream",
     "text": [
      "9\n",
      "3.0\n"
     ]
    }
   ],
   "source": [
    "result_1 = add(4, 5) \n",
    "print(result_1)\n",
    "print(div(result_1, 3))"
   ]
  },
  {
   "cell_type": "markdown",
   "metadata": {
    "id": "xX4O0NskRBpn"
   },
   "source": [
    "# Task 6\n",
    "Создайте функцию ```mult```, которая в аргументы принимает список чисел и возвращает произведение\n",
    "чисел этого списка.\n",
    "\n",
    "Например:\n",
    "```print(mult([1, 2, 3, 4, 5])) => 120```"
   ]
  },
  {
   "cell_type": "code",
   "execution_count": 19,
   "metadata": {
    "id": "df5qSGq3RB4j"
   },
   "outputs": [],
   "source": [
    "def mult(ls):\n",
    "    p = 1\n",
    "    for i in range(len(ls)):\n",
    "        p *= ls[i]\n",
    "    return p"
   ]
  },
  {
   "cell_type": "code",
   "execution_count": 20,
   "metadata": {},
   "outputs": [
    {
     "name": "stdout",
     "output_type": "stream",
     "text": [
      "120\n"
     ]
    }
   ],
   "source": [
    "print(mult([1, 2, 3, 4, 5]))"
   ]
  },
  {
   "cell_type": "markdown",
   "metadata": {
    "id": "nl55Gp8oRCHk"
   },
   "source": [
    "# Task 7\n",
    "Создайте функцию ```str_check```, которая будет проверять есть ли в приходящей ей строке словосочетание\n",
    "'data science', если да возвращать True, нет - False\n"
   ]
  },
  {
   "cell_type": "code",
   "execution_count": 21,
   "metadata": {
    "id": "9sW9pRHERCWD"
   },
   "outputs": [],
   "source": [
    "def str_check(s):\n",
    "    return 'data science' in s"
   ]
  },
  {
   "cell_type": "code",
   "execution_count": 22,
   "metadata": {},
   "outputs": [
    {
     "name": "stdout",
     "output_type": "stream",
     "text": [
      "True\n",
      "False\n"
     ]
    }
   ],
   "source": [
    "print(str_check('Testing data science sentence'))\n",
    "print(str_check('Testing some other science sentence'))"
   ]
  },
  {
   "cell_type": "markdown",
   "metadata": {
    "id": "pK4kYOYbRhiD"
   },
   "source": [
    "# Task 8\n",
    "Вам дан список\n",
    "```\n",
    "bd = ['Emil', 'Rena', 'Aliya', 'Hur']\n",
    "```\n",
    "создайте функцию ```check```, которая в качестве аргумента будет принимать имя и проверять есть ли это имя\n",
    "в базе данных (bd), если да то возвращать 'yes', нет - 'no'"
   ]
  },
  {
   "cell_type": "code",
   "execution_count": 23,
   "metadata": {
    "id": "5QfD5VvoRhxj"
   },
   "outputs": [],
   "source": [
    "bd = ['Emil', 'Rena', 'Aliya', 'Hur']\n",
    "def check(name):\n",
    "    return name in bd"
   ]
  },
  {
   "cell_type": "code",
   "execution_count": 24,
   "metadata": {},
   "outputs": [
    {
     "name": "stdout",
     "output_type": "stream",
     "text": [
      "True\n",
      "False\n"
     ]
    }
   ],
   "source": [
    "print(check('Aliya'))\n",
    "print(check('John'))"
   ]
  },
  {
   "cell_type": "markdown",
   "metadata": {
    "id": "1dzCCZNlLKBs"
   },
   "source": [
    "# Task 9\n",
    "Создайте функцию ```func9()```, которая будет принимать 1 аргумент - число и возвращать два аргумента:\n",
    "принимаемое число и квадрат этого числа\n",
    "\n"
   ]
  },
  {
   "cell_type": "code",
   "execution_count": 25,
   "metadata": {
    "id": "PcPu_-2NLKe-"
   },
   "outputs": [],
   "source": [
    "def func9(a):\n",
    "    return a, a**2"
   ]
  },
  {
   "cell_type": "code",
   "execution_count": 26,
   "metadata": {},
   "outputs": [
    {
     "data": {
      "text/plain": [
       "(5, 25)"
      ]
     },
     "execution_count": 26,
     "metadata": {},
     "output_type": "execute_result"
    }
   ],
   "source": [
    "func9(5)"
   ]
  },
  {
   "cell_type": "markdown",
   "metadata": {
    "id": "6beM0r6-LLCE"
   },
   "source": [
    "# Task 10\n",
    "Дана база данных потенциальных кандидатов на место работы\n",
    "```\n",
    "users = [\n",
    "  { 'name': 'Ron', 'age': 18, 'work': 'IT-backend developer'},\n",
    "  { 'name': 'Sam', 'age': 23, 'work': 'Doctor'},\n",
    "  { 'name': 'Bob', 'age': 26, 'work': 'Driver'},\n",
    "  { 'name': 'John', 'age': 39, 'work': 'Teacher'},\n",
    "  { 'name': 'Jack', 'age': 29, 'work': 'IT-frontend developer'}\n",
    "]   \n",
    "```\n",
    "Напишите функцию ```employee```, которая будет смотреть на список users и возвращать имена только тех кандидатов,\n",
    "которым больше 21 и они в сфере IT"
   ]
  },
  {
   "cell_type": "code",
   "execution_count": 29,
   "metadata": {
    "id": "GSaqBBeWLLd_"
   },
   "outputs": [],
   "source": [
    "users = [\n",
    "  { 'name': 'Ron', 'age': 18, 'work': 'IT-backend developer'},\n",
    "  { 'name': 'Sam', 'age': 23, 'work': 'Doctor'},\n",
    "  { 'name': 'Bob', 'age': 26, 'work': 'Driver'},\n",
    "  { 'name': 'John', 'age': 39, 'work': 'Teacher'},\n",
    "  { 'name': 'Jack', 'age': 29, 'work': 'IT-frontend developer'}\n",
    "]   \n",
    "def employee(users=users):\n",
    "    names = set()\n",
    "    for user in users:\n",
    "        if user['age'] > 21 and 'IT' in user['work']:\n",
    "            names.add(user['name'])\n",
    "    return names"
   ]
  },
  {
   "cell_type": "code",
   "execution_count": 30,
   "metadata": {},
   "outputs": [
    {
     "data": {
      "text/plain": [
       "{'Jack'}"
      ]
     },
     "execution_count": 30,
     "metadata": {},
     "output_type": "execute_result"
    }
   ],
   "source": [
    "employee()"
   ]
  },
  {
   "cell_type": "markdown",
   "metadata": {
    "id": "7cxX9PL7ORoq"
   },
   "source": [
    "# Task 11\n",
    "Создайте функцию: ```arg_types()```, которая принимает два обязательных параметра.\n",
    "Задача этой функции выводить тип принятых аргументов\n",
    "\n"
   ]
  },
  {
   "cell_type": "code",
   "execution_count": 31,
   "metadata": {
    "id": "kL9gyPj_OSEL"
   },
   "outputs": [],
   "source": [
    "def arg_types(param1, param2):\n",
    "    print(f'type of {param1} = {type(param1)}')\n",
    "    print(f'type of {param2} = {type(param2)}')"
   ]
  },
  {
   "cell_type": "code",
   "execution_count": 32,
   "metadata": {},
   "outputs": [
    {
     "name": "stdout",
     "output_type": "stream",
     "text": [
      "type of t = <class 'str'>\n",
      "type of 1 = <class 'int'>\n"
     ]
    }
   ],
   "source": [
    "arg_types('t', 1)"
   ]
  },
  {
   "cell_type": "markdown",
   "metadata": {
    "id": "axwhfDXMOSvg"
   },
   "source": [
    "# Task 12\n",
    "Создайте функцию ```check_nan```, которая будет принимать обязательным аргументом список и проверять\n",
    "есть ли в этом списке 'nan', если да, то удалять его и возвращать список без nan, если же список чист\n",
    "то вернуть его в изначальном виде"
   ]
  },
  {
   "cell_type": "code",
   "execution_count": 38,
   "metadata": {
    "id": "hxgJUhKyOTMs"
   },
   "outputs": [],
   "source": [
    "def check_nan(ls):\n",
    "    n = len(ls)\n",
    "    for i in reversed(range(n)):\n",
    "        if ls[i] == 'nan':\n",
    "            ls.pop(i)\n",
    "    return ls"
   ]
  },
  {
   "cell_type": "code",
   "execution_count": 40,
   "metadata": {},
   "outputs": [
    {
     "name": "stdout",
     "output_type": "stream",
     "text": [
      "[0, 1, 3, 4, 7]\n",
      "[0, 1, 2, 3]\n"
     ]
    }
   ],
   "source": [
    "ls1 = [0, 1, 'nan', 3, 4, 'nan', 'nan', 7]\n",
    "ls2 = [0, 1, 2, 3]\n",
    "print(check_nan(ls1))\n",
    "print(check_nan(ls2))"
   ]
  },
  {
   "cell_type": "code",
   "execution_count": null,
   "metadata": {},
   "outputs": [],
   "source": []
  }
 ],
 "metadata": {
  "colab": {
   "provenance": []
  },
  "kernelspec": {
   "display_name": "Python 3 (ipykernel)",
   "language": "python",
   "name": "python3"
  },
  "language_info": {
   "codemirror_mode": {
    "name": "ipython",
    "version": 3
   },
   "file_extension": ".py",
   "mimetype": "text/x-python",
   "name": "python",
   "nbconvert_exporter": "python",
   "pygments_lexer": "ipython3",
   "version": "3.11.8"
  }
 },
 "nbformat": 4,
 "nbformat_minor": 1
}
