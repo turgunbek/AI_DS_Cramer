{
 "cells": [
  {
   "cell_type": "markdown",
   "metadata": {
    "id": "nz5PCxQBQn08"
   },
   "source": [
    "# Task 1\n",
    "Объявите две переменные str1, str2 со значениями в виде любых строк.\n",
    "Затем склейте их в одну строку через пробел, ответ запишите в переменную string1"
   ]
  },
  {
   "cell_type": "code",
   "execution_count": 1,
   "metadata": {
    "id": "iOPLDHn4QrHY"
   },
   "outputs": [
    {
     "name": "stdout",
     "output_type": "stream",
     "text": [
      "a b\n"
     ]
    }
   ],
   "source": [
    "str1 = 'a'\n",
    "str2 =  'b'\n",
    "string1 = str1 + ' ' + str2\n",
    "print(string1)"
   ]
  },
  {
   "cell_type": "markdown",
   "metadata": {
    "id": "VLrmzPAnQ4li"
   },
   "source": [
    "# Task 2\n",
    "Объявите переменную str_ со значением в виде любой строки.\n",
    "Продублируйте ее 3 раза, ответ запишите в переменную string2"
   ]
  },
  {
   "cell_type": "code",
   "execution_count": 2,
   "metadata": {
    "id": "EI6m7x-bQ8ow"
   },
   "outputs": [
    {
     "name": "stdout",
     "output_type": "stream",
     "text": [
      "aaa\n"
     ]
    }
   ],
   "source": [
    "str_ = 'a'\n",
    "string2 = str_ * 3\n",
    "print(string2)"
   ]
  },
  {
   "cell_type": "markdown",
   "metadata": {
    "id": "-Jurlc2DRAGw"
   },
   "source": [
    "# Task 3\n",
    "Создайте переменную string со значением\n",
    "'Data Science is about working with big data'.\n",
    "Замените все повторения буквы 'a' символом '#', ответ запишите в переменную string3"
   ]
  },
  {
   "cell_type": "code",
   "execution_count": 3,
   "metadata": {
    "id": "o4WrvEZkRAbw"
   },
   "outputs": [
    {
     "name": "stdout",
     "output_type": "stream",
     "text": [
      "D#t# Science is #bout working with big d#t#\n"
     ]
    }
   ],
   "source": [
    "string =  'Data Science is about working with big data'\n",
    "string3 = string.replace('a', '#')\n",
    "print(string3)"
   ]
  },
  {
   "cell_type": "markdown",
   "metadata": {
    "id": "bX3CRQ0tRAqE"
   },
   "source": [
    "# Task 4\n",
    "\n",
    "Нам даны две переменные, которе получают на вход имя и фамилию, введенные с  клавиатурыю. Сформируйте из них строку: '@suname@ @name@ - отличный студент!'\n",
    "\n",
    "Oтвет запишите в переменную string4\n",
    "\n",
    "\n",
    "\n",
    "\n",
    "```\n",
    "name = 'Иван'\n",
    "surname = 'Иванов'\n",
    "\n",
    "code....\n",
    "\n",
    ">>> 'Иванов Иван - отличный студент!\n",
    "```\n",
    "\n"
   ]
  },
  {
   "cell_type": "code",
   "execution_count": 5,
   "metadata": {
    "id": "kbcIy5mkRA6Y"
   },
   "outputs": [
    {
     "name": "stdout",
     "output_type": "stream",
     "text": [
      "input tame:john\n",
      "input surname:wick\n",
      "wick john- отличный студент!\n"
     ]
    }
   ],
   "source": [
    "name = input('input tame:')\n",
    "surname = input('input surname:')\n",
    "msg = surname + ' ' + name + '- отличный студент!'\n",
    "print(msg)"
   ]
  },
  {
   "cell_type": "markdown",
   "metadata": {
    "id": "vqu2Gw7cRBMK"
   },
   "source": [
    "# Task 5\n",
    "Создайте переменную code со значением input(), куда вам будут приходить номерные знаки регионов КР в виде СТРОКИ в формате '0_'.\n",
    "Ваша программа должна вывести сообщение с названием региона в зависимости от значения code как в образце.\n",
    "\n",
    "* Бишкек — '01'\n",
    "\n",
    "* Ош — '02'\n",
    "\n",
    "* Баткенская область — '03'\n",
    "\n",
    "* Джалал-Абадская область — '04'\n",
    "\n",
    "* Нарынская область — '05'\n",
    "\n",
    "* Ошская область — '06'\n",
    "\n",
    "* Таласская область — '07'\n",
    "\n",
    "* Чуйская область — '08'\n",
    "\n",
    "* 'code is incorrect' - '...other...'\n",
    "\n",
    "Example:\n",
    "\n",
    "\n",
    "\n",
    "```\n",
    "code = '02'\n",
    ">>> 'Ош'\n",
    "\n",
    "code = '07'\n",
    ">>> 'Таласская область'\n",
    "\n",
    "code = '5'\n",
    ">>> 'code is incorrect'\n",
    "```\n",
    "\n"
   ]
  },
  {
   "cell_type": "code",
   "execution_count": 7,
   "metadata": {
    "id": "9efFdZS4RBap"
   },
   "outputs": [
    {
     "name": "stdout",
     "output_type": "stream",
     "text": [
      "input region number:010\n",
      "code is incorrect\n"
     ]
    }
   ],
   "source": [
    "code = input('input region number:')\n",
    "regions = {'01': 'Бишкек',\n",
    "           '02': 'Ош',\n",
    "           '03': 'Баткенская область',\n",
    "           '04': 'Джалал-Абадская область',\n",
    "           '05': 'Нарынская область',\n",
    "           '06': 'Ошская область',\n",
    "           '07': 'Таласская область',\n",
    "           '08': 'Чуйская область',\n",
    "          }\n",
    "if code in regions:\n",
    "    print(regions[code])\n",
    "else:\n",
    "    print('code is incorrect')"
   ]
  },
  {
   "cell_type": "code",
   "execution_count": null,
   "metadata": {
    "id": "zcDSxDgk1a9u"
   },
   "outputs": [],
   "source": []
  },
  {
   "cell_type": "markdown",
   "metadata": {
    "id": "xX4O0NskRBpn"
   },
   "source": [
    "# Task 6\n",
    "Создайте переменную sting6 со значением input(),\n",
    "если туда пришла строка полностью в верхнем регистре, то выведите \"uppercase string\",\n",
    "если же там строка в нижнем регистре то \"lowercase string\",\n",
    "в остальных случаях выведите 'other'"
   ]
  },
  {
   "cell_type": "code",
   "execution_count": 9,
   "metadata": {
    "id": "df5qSGq3RB4j"
   },
   "outputs": [
    {
     "name": "stdout",
     "output_type": "stream",
     "text": [
      "AABS\n",
      "uppercase string\n"
     ]
    }
   ],
   "source": [
    "string6 = input()\n",
    "if string6 == string6.upper():\n",
    "    print('uppercase string')\n",
    "elif string6 == string6.lower():\n",
    "    print('lowercase string')\n",
    "else:\n",
    "    print('other')"
   ]
  },
  {
   "cell_type": "markdown",
   "metadata": {
    "id": "nl55Gp8oRCHk"
   },
   "source": [
    "# Task 7\n",
    "Создайте переменную string7 со значением input(),\n",
    "если строка состоит только из чисел, то выведите \"is digit\",\n",
    "если строка состоит только из букв, то выведите \"is alpha\",\n",
    "в остальных случаях выведите \"other\""
   ]
  },
  {
   "cell_type": "code",
   "execution_count": 12,
   "metadata": {
    "id": "9sW9pRHERCWD"
   },
   "outputs": [
    {
     "name": "stdout",
     "output_type": "stream",
     "text": [
      "s98asf\n",
      "other\n"
     ]
    }
   ],
   "source": [
    "string7 = input()\n",
    "if string7.isdigit():\n",
    "    print('is digit')\n",
    "elif string7.isalpha():\n",
    "    print('is alpha')\n",
    "else:\n",
    "    print('other')"
   ]
  },
  {
   "cell_type": "markdown",
   "metadata": {
    "id": "pK4kYOYbRhiD"
   },
   "source": [
    "# Task 8\n",
    "Объявите переменную string8 со значением в виде любой строки.\n",
    "Необходимо проверить начинается ли ваша строка с подстроки \"Data Science\" (Регистр должен учитываться).\n",
    "Вывод: True/False"
   ]
  },
  {
   "cell_type": "code",
   "execution_count": 15,
   "metadata": {
    "id": "5QfD5VvoRhxj"
   },
   "outputs": [
    {
     "name": "stdout",
     "output_type": "stream",
     "text": [
      "True\n"
     ]
    }
   ],
   "source": [
    "string8 = 'Data Science is not Data Engineering'\n",
    "print(string8[0:12] == 'Data Science')"
   ]
  },
  {
   "cell_type": "code",
   "execution_count": null,
   "metadata": {
    "id": "KxlcFdMo37zY"
   },
   "outputs": [],
   "source": []
  },
  {
   "cell_type": "markdown",
   "metadata": {
    "id": "ABWcxnf4Rh-Q"
   },
   "source": [
    "# Task 9\n",
    "Создайте переменную string со значением в виде любой строки.\n",
    "Поменяйте местами первый и последний символ, ответ запишите в переменную string9"
   ]
  },
  {
   "cell_type": "code",
   "execution_count": 21,
   "metadata": {
    "id": "NDL1s01VRiNm"
   },
   "outputs": [
    {
     "name": "stdout",
     "output_type": "stream",
     "text": [
      "zbcdea\n"
     ]
    }
   ],
   "source": [
    "string = 'abcdez'\n",
    "string9 = string[-1] + string[1:-1] + string[0]\n",
    "print(string9)"
   ]
  },
  {
   "cell_type": "markdown",
   "metadata": {
    "id": "yvX6Ijc8Rikr"
   },
   "source": [
    "# Task 10\n",
    "Создайте переменную string со значением в виде любой строки, затем инвертируйте её,\n",
    "ответ запишите в переменную string10.\n",
    "\n",
    "\n",
    "\n",
    "```\n",
    "string = 'ABC'\n",
    ">>> 'CBA'\n",
    "```\n",
    "\n"
   ]
  },
  {
   "cell_type": "code",
   "execution_count": 22,
   "metadata": {
    "id": "jD67ihAhRiyS"
   },
   "outputs": [
    {
     "name": "stdout",
     "output_type": "stream",
     "text": [
      "CBA\n"
     ]
    }
   ],
   "source": [
    "string = 'ABC'\n",
    "string10 = string[::-1]\n",
    "print(string10)"
   ]
  },
  {
   "cell_type": "code",
   "execution_count": null,
   "metadata": {},
   "outputs": [],
   "source": []
  }
 ],
 "metadata": {
  "colab": {
   "provenance": []
  },
  "kernelspec": {
   "display_name": "Python 3 (ipykernel)",
   "language": "python",
   "name": "python3"
  },
  "language_info": {
   "codemirror_mode": {
    "name": "ipython",
    "version": 3
   },
   "file_extension": ".py",
   "mimetype": "text/x-python",
   "name": "python",
   "nbconvert_exporter": "python",
   "pygments_lexer": "ipython3",
   "version": "3.11.8"
  }
 },
 "nbformat": 4,
 "nbformat_minor": 1
}
