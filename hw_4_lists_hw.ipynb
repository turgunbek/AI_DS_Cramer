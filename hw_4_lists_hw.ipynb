{
 "cells": [
  {
   "cell_type": "markdown",
   "metadata": {
    "id": "nz5PCxQBQn08"
   },
   "source": [
    "# Task 1\n",
    "Создайте список list_ с пятью элементами.\n",
    "Затем присвойте третий элемент этого списка переменной list1"
   ]
  },
  {
   "cell_type": "code",
   "execution_count": 1,
   "metadata": {
    "id": "iOPLDHn4QrHY"
   },
   "outputs": [
    {
     "name": "stdout",
     "output_type": "stream",
     "text": [
      "3\n"
     ]
    }
   ],
   "source": [
    "list_ = [1, 2, 3, 4, 5]\n",
    "list1 = list_[2]\n",
    "print(list1)"
   ]
  },
  {
   "cell_type": "markdown",
   "metadata": {
    "id": "VLrmzPAnQ4li"
   },
   "source": [
    "# Task 2\n",
    "Дан список list2.\n",
    "\n",
    "Oтсортируйте его в возрастающем порядке\n",
    "и удалите элемент, который будет находится по середине.\n",
    "\n",
    "\n",
    "\n",
    "```\n",
    "input:\n",
    "[5, 3, 1, -1, 10]\n",
    "output:\n",
    ">>> [-1, 1, 5, 10]\n",
    "```\n",
    "\n"
   ]
  },
  {
   "cell_type": "code",
   "execution_count": 16,
   "metadata": {
    "id": "EI6m7x-bQ8ow"
   },
   "outputs": [],
   "source": [
    "list2 = [23, 34, 12, 7, 0, -4, -56, -100, 344, 98, 232]"
   ]
  },
  {
   "cell_type": "code",
   "execution_count": 17,
   "metadata": {
    "id": "7LNwYjrs6CGI"
   },
   "outputs": [
    {
     "data": {
      "text/plain": [
       "[-100, -56, -4, 0, 7, 23, 34, 98, 232, 344]"
      ]
     },
     "execution_count": 17,
     "metadata": {},
     "output_type": "execute_result"
    }
   ],
   "source": [
    "list2 = sorted(list2)\n",
    "list2.pop(len(list2) // 2)\n",
    "list2"
   ]
  },
  {
   "cell_type": "markdown",
   "metadata": {
    "id": "-Jurlc2DRAGw"
   },
   "source": [
    "# Task 3\n",
    "Дан список list_ и переменная num со значением input().\n",
    "Посчитайте, сколько раз элемент, который придет в num, встречается в списке.\n",
    "Oтвет запишите в переменную list3.\n"
   ]
  },
  {
   "cell_type": "code",
   "execution_count": 21,
   "metadata": {
    "id": "o4WrvEZkRAbw"
   },
   "outputs": [
    {
     "name": "stdout",
     "output_type": "stream",
     "text": [
      "2\n"
     ]
    }
   ],
   "source": [
    "list_ = [1, 22, 3, 45, 22, 4, 89, 87, 87, 4]\n",
    "num = 4\n",
    "list3 = list_.count(num)\n",
    "print(list3)"
   ]
  },
  {
   "cell_type": "markdown",
   "metadata": {
    "id": "bX3CRQ0tRAqE"
   },
   "source": [
    "# Task 4\n",
    "Представьте себе, что у вас есть сад с фруктами. Соберите 5 фруктов из этого сада в корзину (список list4),\n",
    "используя метод добавления в списки.\n",
    "Затем замените третий(index = 2) элемент на другой фрукт через метод списка."
   ]
  },
  {
   "cell_type": "code",
   "execution_count": 22,
   "metadata": {
    "id": "kbcIy5mkRA6Y"
   },
   "outputs": [
    {
     "name": "stdout",
     "output_type": "stream",
     "text": [
      "['apple', 'pinapple', 'grape', 'banana', 'mango']\n",
      "['apple', 'pinapple', 'marakuja', 'banana', 'mango']\n"
     ]
    }
   ],
   "source": [
    "list4 = []\n",
    "list4.append('apple')\n",
    "list4.append('pinapple')\n",
    "list4.append('grape')\n",
    "list4.append('banana')\n",
    "list4.append('mango')\n",
    "print(list4)\n",
    "list4[2] = 'marakuja'\n",
    "print(list4)"
   ]
  },
  {
   "cell_type": "markdown",
   "metadata": {
    "id": "vqu2Gw7cRBMK"
   },
   "source": [
    "# Task 5\n",
    "Создайте список list5 заполненныый числами от 0 до 19 включительно используя range() так, чтобы не было вложенностей."
   ]
  },
  {
   "cell_type": "code",
   "execution_count": 23,
   "metadata": {
    "id": "9efFdZS4RBap"
   },
   "outputs": [
    {
     "name": "stdout",
     "output_type": "stream",
     "text": [
      "[0, 1, 2, 3, 4, 5, 6, 7, 8, 9, 10, 11, 12, 13, 14, 15, 16, 17, 18, 19]\n"
     ]
    }
   ],
   "source": [
    "list5 = list(range(20))\n",
    "print(list5)"
   ]
  },
  {
   "cell_type": "markdown",
   "metadata": {
    "id": "xX4O0NskRBpn"
   },
   "source": [
    "# Task 6\n",
    "Создайте два списка ls1, ls2 со случайным набором чисел. Объедините эти списки в один, азатем присвойте сумму всех чисел переменной list6."
   ]
  },
  {
   "cell_type": "code",
   "execution_count": 27,
   "metadata": {
    "id": "df5qSGq3RB4j"
   },
   "outputs": [
    {
     "name": "stdout",
     "output_type": "stream",
     "text": [
      "1\n"
     ]
    }
   ],
   "source": [
    "from random import randint\n",
    "m, n = 5, 6\n",
    "ls1 = [randint(-5, 5) for _ in range(m)]\n",
    "ls2 = [randint(-5, 5) for _ in range(n)]\n",
    "list6 = sum(ls1 + ls2)\n",
    "print(list6)"
   ]
  },
  {
   "cell_type": "markdown",
   "metadata": {
    "id": "Dr9CrnUWNSH7"
   },
   "source": [
    "# Task 7\n",
    "Дан список lst7. Извлеките из него только те числа, которые больше 10. Ответ запишите в переменную list9. Вам понадобится функция filter(), про которую стоит прочитать в документации или в Google)\n",
    "\n",
    "\n",
    "\n",
    "```\n",
    "input:\n",
    "[1, 2, 3, 10, 100, 12, 4]\n",
    "\n",
    "output:\n",
    "[100, 12]\n",
    "```\n",
    "\n"
   ]
  },
  {
   "cell_type": "code",
   "execution_count": 29,
   "metadata": {
    "id": "DTeyNuhaNtb_"
   },
   "outputs": [
    {
     "name": "stdout",
     "output_type": "stream",
     "text": [
      "[22, 45, 22, 89, 87, 87]\n"
     ]
    }
   ],
   "source": [
    "lst7 = [1, 22, 10, 45, 22, 4, 89, 87, 87, 4]\n",
    "list9 = list(filter(lambda x: x > 10, lst7))\n",
    "print(list9)"
   ]
  },
  {
   "cell_type": "code",
   "execution_count": null,
   "metadata": {
    "id": "lwyafQ2i-gdp"
   },
   "outputs": [],
   "source": []
  },
  {
   "cell_type": "markdown",
   "metadata": {
    "id": "CWSpoOv8-g-w"
   },
   "source": [
    "# Task 8\n",
    "\n",
    "Дана строка str_. Превратите ее в список разбив по пробелу.\n",
    "\n",
    "\n",
    "\n",
    "```\n",
    "str = 'Data science is good!'\n",
    "\n",
    ">>> ['Data', 'science', 'is', 'good!']\n",
    "\n",
    "```\n",
    "Ответ запишите в переменную list10\n"
   ]
  },
  {
   "cell_type": "code",
   "execution_count": 30,
   "metadata": {
    "id": "QVjhJGiG_IJN"
   },
   "outputs": [
    {
     "name": "stdout",
     "output_type": "stream",
     "text": [
      "['The', 'second', 'type', 'of', 'coordinate', 'system', 'is', 'a', 'projected', 'coordinate', 'system.']\n"
     ]
    }
   ],
   "source": [
    "str_ = 'The second type of coordinate system is a projected coordinate system.'\n",
    "\n",
    "list10 = str_.split(' ')\n",
    "print(list10)"
   ]
  },
  {
   "cell_type": "code",
   "execution_count": null,
   "metadata": {
    "id": "PPGJOLNd_JCL"
   },
   "outputs": [],
   "source": []
  }
 ],
 "metadata": {
  "colab": {
   "provenance": []
  },
  "kernelspec": {
   "display_name": "Python 3 (ipykernel)",
   "language": "python",
   "name": "python3"
  },
  "language_info": {
   "codemirror_mode": {
    "name": "ipython",
    "version": 3
   },
   "file_extension": ".py",
   "mimetype": "text/x-python",
   "name": "python",
   "nbconvert_exporter": "python",
   "pygments_lexer": "ipython3",
   "version": "3.11.8"
  }
 },
 "nbformat": 4,
 "nbformat_minor": 1
}
