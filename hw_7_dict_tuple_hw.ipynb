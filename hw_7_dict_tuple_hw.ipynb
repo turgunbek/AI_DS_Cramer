{
 "cells": [
  {
   "cell_type": "markdown",
   "metadata": {
    "id": "nz5PCxQBQn08"
   },
   "source": [
    "# Task 1\n",
    "Создайте словарь dict1 и удалите все его элементы специальным методом"
   ]
  },
  {
   "cell_type": "code",
   "execution_count": 1,
   "metadata": {
    "id": "iOPLDHn4QrHY"
   },
   "outputs": [
    {
     "name": "stdout",
     "output_type": "stream",
     "text": [
      "{1: 'one', 2: 'two'}\n",
      "{}\n"
     ]
    }
   ],
   "source": [
    "dict1 = {1: 'one', 2: 'two'}\n",
    "print(dict1)\n",
    "dict1.clear()\n",
    "print(dict1)"
   ]
  },
  {
   "cell_type": "markdown",
   "metadata": {
    "id": "VLrmzPAnQ4li"
   },
   "source": [
    "# Task 2\n",
    "Дан словарь dict_ = {'a': 1, 'b': 2, 'c': 1}, выведите все его ключи\n"
   ]
  },
  {
   "cell_type": "code",
   "execution_count": 4,
   "metadata": {
    "id": "EI6m7x-bQ8ow"
   },
   "outputs": [
    {
     "name": "stdout",
     "output_type": "stream",
     "text": [
      "dict_keys(['a', 'b', 'c'])\n"
     ]
    }
   ],
   "source": [
    "dict_ = {'a': 1, 'b': 2, 'c': 1}\n",
    "print(dict_.keys())"
   ]
  },
  {
   "cell_type": "markdown",
   "metadata": {
    "id": "-Jurlc2DRAGw"
   },
   "source": [
    "# Task 3\n",
    "Используя предыдущий словарь проитерируйте его по парам ключ-значение\n",
    "и распечатайте каждую пару\n"
   ]
  },
  {
   "cell_type": "code",
   "execution_count": 5,
   "metadata": {
    "id": "o4WrvEZkRAbw"
   },
   "outputs": [
    {
     "name": "stdout",
     "output_type": "stream",
     "text": [
      "a 1\n",
      "b 2\n",
      "c 1\n"
     ]
    }
   ],
   "source": [
    "for k, v in dict_.items():\n",
    "    print(k, v)"
   ]
  },
  {
   "cell_type": "markdown",
   "metadata": {
    "id": "bX3CRQ0tRAqE"
   },
   "source": [
    "# Task 4\n",
    "Из словаря dict4 = {'a': 1, 'b': 4, 'c': 1, 'd': 5, 'e': 6}\n",
    "удалите пары у которых значение меньше 4"
   ]
  },
  {
   "cell_type": "code",
   "execution_count": 9,
   "metadata": {
    "id": "kbcIy5mkRA6Y"
   },
   "outputs": [
    {
     "name": "stdout",
     "output_type": "stream",
     "text": [
      "{'b': 4, 'd': 5, 'e': 6}\n"
     ]
    }
   ],
   "source": [
    "dict4 = {'a': 1, 'b': 4, 'c': 1, 'd': 5, 'e': 6}\n",
    "result = {k: v for k, v in dict4.items() if not v < 4}\n",
    "print(result)"
   ]
  },
  {
   "cell_type": "markdown",
   "metadata": {
    "id": "vqu2Gw7cRBMK"
   },
   "source": [
    "# Task 5\n",
    "Дан словарь\n",
    "```\n",
    "dict5 = {1: {'a': 1}, 2: {'b': 4}, 3: {'c': 1}, 4: {'d': 5}, 5: {'e': 6}}\n",
    "```\n",
    "Сделайте так, чтобы значениями внешних ключей были ключи внутренних словарей.\n",
    "\n",
    "Например {1: 'a', 2: 'b', ....}"
   ]
  },
  {
   "cell_type": "code",
   "execution_count": 18,
   "metadata": {
    "id": "9efFdZS4RBap"
   },
   "outputs": [
    {
     "name": "stdout",
     "output_type": "stream",
     "text": [
      "{1: 'a', 2: 'b', 3: 'c', 4: 'd', 5: 'e'}\n"
     ]
    }
   ],
   "source": [
    "dict5 = {1: {'a': 1}, 2: {'b': 4}, 3: {'c': 1}, 4: {'d': 5}, 5: {'e': 6}}\n",
    "result = {k: list(v.keys())[0] for k, v in dict5.items()}\n",
    "print(result)"
   ]
  },
  {
   "cell_type": "markdown",
   "metadata": {
    "id": "nl55Gp8oRCHk"
   },
   "source": [
    "# Task 7\n",
    "В словарь dict7 = {'a': 1, 'b': 2, 'c': 1} добавьте новую пару ('d', 3)\n"
   ]
  },
  {
   "cell_type": "code",
   "execution_count": 19,
   "metadata": {
    "id": "9sW9pRHERCWD"
   },
   "outputs": [
    {
     "name": "stdout",
     "output_type": "stream",
     "text": [
      "{'a': 1, 'b': 2, 'c': 1, 'd': 3}\n"
     ]
    }
   ],
   "source": [
    "dict7 = {'a': 1, 'b': 2, 'c': 1}\n",
    "dict7['d'] = 3\n",
    "print(dict7)"
   ]
  },
  {
   "cell_type": "markdown",
   "metadata": {
    "id": "1dzCCZNlLKBs"
   },
   "source": [
    "# Task 9\n",
    "Даны два словаря ```d1 = {'a': 1, 'b': 2}```, ```d2 = {'c': 3, 'd': 4}```, объедините их в переменной  dict9. Используйте `update()`\n",
    "\n"
   ]
  },
  {
   "cell_type": "code",
   "execution_count": 25,
   "metadata": {
    "id": "PcPu_-2NLKe-"
   },
   "outputs": [
    {
     "name": "stdout",
     "output_type": "stream",
     "text": [
      "{'a': 1, 'b': 2, 'c': 3, 'd': 4}\n"
     ]
    }
   ],
   "source": [
    "d1 = {'a': 1, 'b': 2}\n",
    "d2 = {'c': 3, 'd': 4}\n",
    "dict9 = d1.copy()\n",
    "dict9.update(d2)\n",
    "print(dict9)"
   ]
  },
  {
   "cell_type": "code",
   "execution_count": null,
   "metadata": {},
   "outputs": [],
   "source": []
  }
 ],
 "metadata": {
  "colab": {
   "provenance": []
  },
  "kernelspec": {
   "display_name": "Python 3 (ipykernel)",
   "language": "python",
   "name": "python3"
  },
  "language_info": {
   "codemirror_mode": {
    "name": "ipython",
    "version": 3
   },
   "file_extension": ".py",
   "mimetype": "text/x-python",
   "name": "python",
   "nbconvert_exporter": "python",
   "pygments_lexer": "ipython3",
   "version": "3.11.8"
  }
 },
 "nbformat": 4,
 "nbformat_minor": 1
}
